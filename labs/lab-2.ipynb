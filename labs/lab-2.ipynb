{
 "cells": [
  {
   "cell_type": "markdown",
   "metadata": {},
   "source": [
    "# L2 - Multilayer perceptron\n",
    "\n",
    "### Papers\n",
    "1. [TensorFlow](https://static.googleusercontent.com/media/research.google.com/en//pubs/archive/45166.pdf)\n",
    "\n",
    "### TensorFlow\n",
    "1. [Installing TensorFlow](https://www.tensorflow.org/install/)\n",
    "2. [Basics of TensorFlow](https://www.tensorflow.org/get_started/get_started)\n",
    "3. [Mnist with TensorFlow](https://www.tensorflow.org/get_started/mnist/pros)\n",
    "4. [TensorFlow Mechanics](https://www.tensorflow.org/get_started/mnist/mechanics)\n",
    "5. [Visualization](https://www.tensorflow.org/get_started/graph_viz)\n",
    "\n",
    "\n",
    "### One more thing\n",
    "1. [Jupyter tutorial](https://habrahabr.ru/company/wunderfund/blog/316826/)\n",
    "2. [Plot.ly](https://plot.ly/python/)\n",
    "3. [Widgets](http://jupyter.org/widgets.html)"
   ]
  },
  {
   "cell_type": "markdown",
   "metadata": {},
   "source": [
    "### 1. Linear multi-classification problem\n",
    "\n",
    "We have already learned binary linear classifier\n",
    "$$y = \\text{sign}(w^Tx).$$\n",
    "There are [several approaches](https://en.wikipedia.org/wiki/Multiclass_classification) to solve the problem of multi-class classification. For example [reduction](https://en.wikipedia.org/wiki/Multiclass_classification#Transformation_to_Binary) of problem to binary classifier or [modification](https://en.wikipedia.org/wiki/Support_vector_machine#Multiclass_SVM) of the known model. However we are interested in approaches that is applied in neural networks.\n",
    "\n",
    "For each class $c \\in 1, \\dots, |C|$ we have an individual row $w_i$ of matrix $W$. Then the probability of $x$ belonging to a particular class is equal to\n",
    "$$p_i = \\frac{\\exp(w^T_ix)}{\\sum_j \\exp(w^T_jx)}.$$\n",
    "This is nothing, but [softmax](https://en.wikipedia.org/wiki/Softmax_function) function of $Wx$.\n",
    "$$(p_1, \\dots, p_{|C|}) = \\text{softmax}(Wx).$$\n",
    "\n",
    "If you look closely, $\\text{softmax}$ is a more general variant of sigmoid. To see this, it suffices to consider the case $|C|=2$. As usual the training can be reduced to minimization of the empirical risk, namely, optimization problem\n",
    "$$\\arg\\min_W Q(W) = \\arg\\min_W -\\frac{1}{\\mathcal{l}}\\sum_y\\sum_i [y = i] \\cdot \\ln(p_i(W)).$$\n",
    "Actually, the maximization of the log-likelihood is written above.\n",
    "\n",
    "#### Exercises\n",
    "1. Find $\\frac{dQ}{dW}$ in matrix form (hint: start with $\\frac{dQ}{dw_i}$ for begining).\n",
    "2. Please plot several mnist images (e.g using grid 5x5).\n",
    "3. Train linear multi-label classifier for [mnist](https://www.kaggle.com/c/digit-recognizer) dataset with TensorFlow (possible, [this tutorial](https://www.tensorflow.org/get_started/mnist/pros) can help you).\n",
    "4. Chek accuracy on train and validation sets.\n",
    "5. Use a local [TensorBoard instance](https://www.tensorflow.org/get_started/graph_viz) to visualize resulted graph (no need to include in lab)."
   ]
  },
  {
   "cell_type": "code",
   "execution_count": 3,
   "metadata": {},
   "outputs": [
    {
     "name": "stdout",
     "output_type": "stream",
     "text": [
      "Extracting MNIST_data/train-images-idx3-ubyte.gz\n",
      "Extracting MNIST_data/train-labels-idx1-ubyte.gz\n",
      "Extracting MNIST_data/t10k-images-idx3-ubyte.gz\n",
      "Extracting MNIST_data/t10k-labels-idx1-ubyte.gz\n"
     ]
    }
   ],
   "source": [
    "import tensorflow as tf\n",
    "import matplotlib\n",
    "import numpy as np\n",
    "import matplotlib.pyplot as plt\n",
    "\n",
    "from tensorflow.examples.tutorials.mnist import input_data\n",
    "mnist = input_data.read_data_sets(\"MNIST_data/\", one_hot=True)"
   ]
  },
  {
   "cell_type": "code",
   "execution_count": 4,
   "metadata": {},
   "outputs": [
    {
     "data": {
      "image/png": "[encoded data removed]",
      "text/plain": [
       "<matplotlib.figure.Figure at 0x1a1b5811d0>"
      ]
     },
     "metadata": {},
     "output_type": "display_data"
    },
    {
     "data": {
      "image/png": "[encoded data removed]",
      "text/plain": [
       "<matplotlib.figure.Figure at 0x1a29885f60>"
      ]
     },
     "metadata": {},
     "output_type": "display_data"
    },
    {
     "name": "stdout",
     "output_type": "stream",
     "text": [
      "[ 0.  0.  0.  0.  0.  0.  1.  0.  0.  0.]\n"
     ]
    }
   ],
   "source": [
    "def plot_image(image):\n",
    "    image = np.array(image).reshape((28, 28))\n",
    "    plt.imshow(image, cmap=cmap)\n",
    "    plt.show()\n",
    "image = np.array([x % 255 for x in range(28 * 28)])\n",
    "cmap = 'gray'\n",
    "plot_image(image)\n",
    "plot_image(mnist.train.images[99])\n",
    "print(mnist.train.labels[99])"
   ]
  },
  {
   "cell_type": "code",
   "execution_count": 8,
   "metadata": {},
   "outputs": [
    {
     "name": "stdout",
     "output_type": "stream",
     "text": [
      "validation accuracy 0.9252\n",
      "test accuracy 0.9208\n"
     ]
    },
    {
     "data": {
      "image/png": "[encoded data removed]",
      "text/plain": [
       "<matplotlib.figure.Figure at 0x1a33f845f8>"
      ]
     },
     "metadata": {},
     "output_type": "display_data"
    },
    {
     "data": {
      "image/png": "[encoded data removed]",
      "text/plain": [
       "<matplotlib.figure.Figure at 0x1a33fe07f0>"
      ]
     },
     "metadata": {},
     "output_type": "display_data"
    },
    {
     "data": {
      "image/png": "[encoded data removed]",
      "text/plain": [
       "<matplotlib.figure.Figure at 0x1a340c45c0>"
      ]
     },
     "metadata": {},
     "output_type": "display_data"
    },
    {
     "data": {
      "image/png": "[encoded data removed]",
      "text/plain": [
       "<matplotlib.figure.Figure at 0x1a34162160>"
      ]
     },
     "metadata": {},
     "output_type": "display_data"
    },
    {
     "data": {
      "image/png": "[encoded data removed]",
      "text/plain": [
       "<matplotlib.figure.Figure at 0x1a33ad2518>"
      ]
     },
     "metadata": {},
     "output_type": "display_data"
    },
    {
     "data": {
      "image/png": "[encoded data removed]",
      "text/plain": [
       "<matplotlib.figure.Figure at 0x109b92eb8>"
      ]
     },
     "metadata": {},
     "output_type": "display_data"
    },
    {
     "data": {
      "image/png": "[encoded data removed]",
      "text/plain": [
       "<matplotlib.figure.Figure at 0x109d102b0>"
      ]
     },
     "metadata": {},
     "output_type": "display_data"
    },
    {
     "data": {
      "image/png": "[encoded data removed]",
      "text/plain": [
       "<matplotlib.figure.Figure at 0x1a2671b358>"
      ]
     },
     "metadata": {},
     "output_type": "display_data"
    },
    {
     "data": {
      "image/png": "[encoded data removed]",
      "text/plain": [
       "<matplotlib.figure.Figure at 0x1a267ddf28>"
      ]
     },
     "metadata": {},
     "output_type": "display_data"
    },
    {
     "data": {
      "image/png": "[encoded data removed]",
      "text/plain": [
       "<matplotlib.figure.Figure at 0x1a267d86a0>"
      ]
     },
     "metadata": {},
     "output_type": "display_data"
    }
   ],
   "source": [
    "sess = tf.InteractiveSession()\n",
    "\n",
    "x = tf.placeholder(tf.float32, [None, 784])\n",
    "y_ = tf.placeholder(tf.float32, [None, 10])\n",
    "\n",
    "W = tf.Variable(tf.truncated_normal([784, 10], stddev=0.1))\n",
    "b = tf.Variable(tf.constant(0.1, shape=[10]))\n",
    "y = tf.matmul(x, W) + b\n",
    "\n",
    "cross_entropy = tf.reduce_mean(\n",
    "    tf.nn.softmax_cross_entropy_with_logits(labels=y_, logits=y))\n",
    "\n",
    "train_step = tf.train.GradientDescentOptimizer(0.5).minimize(cross_entropy)\n",
    "correct_prediction = tf.equal(tf.argmax(y, 1), tf.argmax(y_, 1))\n",
    "accuracy = tf.reduce_mean(tf.cast(correct_prediction, tf.float32))\n",
    "\n",
    "with tf.Session() as sess:\n",
    "    sess.run(tf.global_variables_initializer())\n",
    "    for i in range(2000):\n",
    "        batch = mnist.train.next_batch(100)\n",
    "        train_step.run(feed_dict={x: batch[0], y_: batch[1]})\n",
    "\n",
    "    print('validation accuracy %g' % accuracy.eval(feed_dict={\n",
    "        x: mnist.validation.images, y_: mnist.validation.labels}))\n",
    "    print('test accuracy %g' % accuracy.eval(feed_dict={\n",
    "        x: mnist.test.images, y_: mnist.test.labels}))\n",
    "    result = sess.run(W)\n",
    "    for i in range(10):\n",
    "        plot_image(result.T[i])\n",
    "        "
   ]
  },
  {
   "cell_type": "markdown",
   "metadata": {},
   "source": [
    "Let's briefly touch on themes of regularization. As was discussed before, there are different approaches. We focus on the modification of loss function.\n",
    "\n",
    "$$\\arg\\min_W -\\frac{1}{\\mathcal{l}}\\sum_y\\sum_i [y = i] \\cdot \\ln(p_i(W)) + \\lambda_1 L_1(W) + \\lambda_2 L_2(W)$$\n",
    "\n",
    "1. $L_1(W) = sum_{i,j} |w_{i,j}|$ - sparsify weights (force to not use uncorrelated features)\n",
    "2. $L_2(W) = sum_{i,j} w_{i,j}^2$ - minimize weights (force to not overfit)\n",
    "\n",
    "#### Exercises\n",
    "1. Train model again using both type of regularization.\n",
    "2. Plot matrix of weights.\n",
    "3. Which pixels have zero weights? What does it mean?\n",
    "4. Have you improved accuracy on validation?"
   ]
  },
  {
   "cell_type": "code",
   "execution_count": 9,
   "metadata": {},
   "outputs": [
    {
     "name": "stdout",
     "output_type": "stream",
     "text": [
      "validation accuracy 0.8702\n",
      "test accuracy 0.8677\n",
      "part of matrix of weights:\n",
      "[[  8.42574313e-02  -9.00411829e-02  -5.06961206e-03   5.42736799e-03\n",
      "   -7.93852285e-03  -5.05094007e-02  -8.60140696e-02   6.97837025e-02\n",
      "    5.18206619e-02   4.96772723e-03]\n",
      " [  7.67073259e-02  -4.69446145e-02  -2.62559555e-03   5.99187333e-04\n",
      "   -6.05960051e-03  -2.19472405e-02  -2.22105384e-02   2.45163739e-02\n",
      "    1.07525066e-01  -2.42656260e-03]\n",
      " [  1.00983888e-01  -4.66785114e-03  -1.43949338e-03  -1.09093636e-03\n",
      "   -2.60567968e-03  -5.86348958e-03  -7.42287561e-03   5.82400663e-03\n",
      "    1.15978047e-01  -4.11765557e-03]\n",
      " [  6.93412572e-02  -1.19276578e-04  -1.03358249e-03   3.37456324e-04\n",
      "   -3.12404998e-04  -2.62813619e-03  -1.05220568e-03   3.55762313e-04\n",
      "    5.10929674e-02  -1.16191362e-03]\n",
      " [  3.72695457e-03   2.26585369e-04  -8.13997875e-04  -4.16926399e-04\n",
      "    6.77297183e-04   7.30727287e-03  -2.31839076e-04  -1.88674778e-04\n",
      "    1.02440594e-03  -1.31898036e-04]\n",
      " [ -6.25822286e-04   2.28913268e-05  -8.28724005e-05   1.49546948e-04\n",
      "    6.60859863e-04   5.38183982e-03  -2.53390521e-04   1.52066932e-04\n",
      "    5.25498006e-04   4.37951123e-04]\n",
      " [ -1.53904897e-04   6.11310825e-05   3.39240418e-04   7.40774791e-04\n",
      "   -4.19882534e-04   2.80351378e-04  -1.80059869e-04   4.72843531e-05\n",
      "   -1.37858209e-04   3.85145133e-04]\n",
      " [ -6.65134285e-04  -6.73602393e-04   3.04239802e-04  -5.07030345e-04\n",
      "   -5.17668959e-04   1.48334540e-04  -5.76716440e-04  -2.52811646e-04\n",
      "    3.90867062e-04   4.33133391e-04]\n",
      " [ -4.49026353e-04  -4.33805282e-04  -4.43714729e-04   3.90910718e-04\n",
      "   -4.57838469e-04  -4.79834154e-04  -4.33051144e-04   3.92048620e-04\n",
      "   -4.31539665e-04   5.01181930e-04]\n",
      " [  4.34383401e-04   7.12991052e-04   2.63354916e-04   5.68152522e-04\n",
      "   -5.48706914e-04   4.10793698e-04  -1.96923502e-04   7.46224890e-04\n",
      "   -5.52455080e-04   6.19959959e-04]]\n"
     ]
    },
    {
     "data": {
      "image/png": "[encoded data removed]",
      "text/plain": [
       "<matplotlib.figure.Figure at 0x1a2675bb00>"
      ]
     },
     "metadata": {},
     "output_type": "display_data"
    },
    {
     "data": {
      "image/png": "[encoded data removed]",
      "text/plain": [
       "<matplotlib.figure.Figure at 0x109b97128>"
      ]
     },
     "metadata": {},
     "output_type": "display_data"
    },
    {
     "data": {
      "image/png": "[encoded data removed]",
      "text/plain": [
       "<matplotlib.figure.Figure at 0x1a3e6c5c88>"
      ]
     },
     "metadata": {},
     "output_type": "display_data"
    },
    {
     "data": {
      "image/png": "[encoded data removed]",
      "text/plain": [
       "<matplotlib.figure.Figure at 0x1a3416dc50>"
      ]
     },
     "metadata": {},
     "output_type": "display_data"
    },
    {
     "data": {
      "image/png": "[encoded data removed]",
      "text/plain": [
       "<matplotlib.figure.Figure at 0x1a34103c88>"
      ]
     },
     "metadata": {},
     "output_type": "display_data"
    },
    {
     "data": {
      "image/png": "[encoded data removed]",
      "text/plain": [
       "<matplotlib.figure.Figure at 0x1a340b56d8>"
      ]
     },
     "metadata": {},
     "output_type": "display_data"
    },
    {
     "data": {
      "image/png": "[encoded data removed]",
      "text/plain": [
       "<matplotlib.figure.Figure at 0x1a26848be0>"
      ]
     },
     "metadata": {},
     "output_type": "display_data"
    },
    {
     "data": {
      "image/png": "[encoded data removed]",
      "text/plain": [
       "<matplotlib.figure.Figure at 0x1a1cf1b9e8>"
      ]
     },
     "metadata": {},
     "output_type": "display_data"
    },
    {
     "data": {
      "image/png": "[encoded data removed]",
      "text/plain": [
       "<matplotlib.figure.Figure at 0x1a1cfd4ba8>"
      ]
     },
     "metadata": {},
     "output_type": "display_data"
    },
    {
     "data": {
      "image/png": "[encoded data removed]",
      "text/plain": [
       "<matplotlib.figure.Figure at 0x1a1d0d2c50>"
      ]
     },
     "metadata": {},
     "output_type": "display_data"
    }
   ],
   "source": [
    "sess = tf.InteractiveSession()\n",
    "\n",
    "x = tf.placeholder(tf.float32, [None, 784])\n",
    "y_ = tf.placeholder(tf.float32, [None, 10])\n",
    "\n",
    "# W = tf.Variable(tf.zeros([784, 10]))\n",
    "# b = tf.Variable(tf.zeros([10]))\n",
    "W = tf.Variable(tf.truncated_normal([784, 10], stddev=0.1))\n",
    "b = tf.Variable(tf.constant(0.1, shape=[10]))\n",
    "y = tf.matmul(x, W) + b\n",
    "\n",
    "lambda_1 = 0.0017\n",
    "L_1 = tf.reduce_sum(tf.abs(W))\n",
    "lambda_2 = 0.007\n",
    "L_2 = tf.reduce_sum(tf.square(W))\n",
    "\n",
    "cross_entropy = tf.reduce_mean(\n",
    "    tf.nn.softmax_cross_entropy_with_logits(labels=y_, logits=y)) + lambda_1 * L_1 + lambda_2 * L_2\n",
    "\n",
    "train_step = tf.train.GradientDescentOptimizer(0.5).minimize(cross_entropy)\n",
    "correct_prediction = tf.equal(tf.argmax(y, 1), tf.argmax(y_, 1))\n",
    "accuracy = tf.reduce_mean(tf.cast(correct_prediction, tf.float32))\n",
    "\n",
    "with tf.Session() as sess:\n",
    "    sess.run(tf.global_variables_initializer())\n",
    "    for i in range(2000):\n",
    "        batch = mnist.train.next_batch(100)\n",
    "        train_step.run(feed_dict={x: batch[0], y_: batch[1]})\n",
    "\n",
    "    print('validation accuracy %g' % accuracy.eval(feed_dict={\n",
    "        x: mnist.validation.images, y_: mnist.validation.labels}))\n",
    "    print('test accuracy %g' % accuracy.eval(feed_dict={\n",
    "        x: mnist.test.images, y_: mnist.test.labels}))\n",
    "    result = sess.run(W)\n",
    "    print('part of matrix of weights:')\n",
    "    print(result[300:310])\n",
    "    cmap = 'YlGnBu'\n",
    "    for i in range(10):\n",
    "        plot_image(result.T[i])\n",
    "        "
   ]
  },
  {
   "cell_type": "markdown",
   "metadata": {},
   "source": [
    "### 2. Universal approximation theorem\n",
    "\n",
    "What if we add more layers to our model? Namely, we train two matrix $W_2$ and $W_1$\n",
    "$$softmax(W_2\\cdot(W_1x)).$$\n",
    "\n",
    "At first glance adding more parameters helps to increase the generalizing ability of the model. Buy actually we have the same model $softmax(Wx)$, where $W = W_2\\cdot W_1$. But everyting changes with adding ome more layer. Let's add nonlinear function $\\sigma$ between $W_2$ and $W_1$\n",
    "\n",
    "$$softmax(W_2\\cdot \\sigma(W_1x)).$$\n",
    "\n",
    "Kurt Hornik showed in 1991 that it is not the specific choice of the nonlinear function, but rather the multilayer feedforward architecture itself which gives neural networks the potential of being universal approximators. The output units are always assumed to be linear. For notational convenience, only the single output case will be shown. The general case can easily be deduced from the single output case.\n",
    "\n",
    "Let $\\sigma(\\cdot)$ be a nonconstant, bounded, and monotonically-increasing continuous function.\n",
    "Let $\\mathcal{S}_m \\subset \\mathbb{R}^m$ denote any compact set. \n",
    "Then, given any $\\varepsilon > 0$ and any coninuous function $f$ on $\\mathcal{S}_m$, there exist an integer $N$ and real constants $v_i$, $b_i$ amd real vectors $w_i$ that\n",
    "\n",
    "$$\\left| \\sum _{i=1}^{N}v_{i}\\sigma \\left( w_i^{T} x+b_i \\right) - f(x) \\right| < \\varepsilon, ~~~ \\forall x \\in \\mathcal{S}_m.$$\n",
    "\n",
    "The theorem has non-constructive proof, it meams that no estimates for $N$ and no method to find approximation's parameters.\n",
    "\n",
    "#### Exercises\n",
    "1. Let $\\sigma$ – [heaviside step function](https://en.wikipedia.org/wiki/Heaviside_step_function) and $x \\in \\{0, 1\\}^2$. Prove that $y = \\sigma(wx + b)$ can approximate boolean function **OR** (hint: use constructive proof).\n",
    "2. What about **AND** function?\n",
    "3. Is it possible to implement **XOR**? Prove your words.\n",
    "4. Prove that 2-layer network can implement any boolean function.\n",
    "\n",
    "#### More useful facts:\n",
    "1. A 2-layer network in in $\\mathbb{R}^n$ allows to define convex polyhedron..\n",
    "2. A 3-layer network in в $\\mathbb{R}^n$ allows to define a not necessarily convex and not even necessarily connected area."
   ]
  },
  {
   "cell_type": "markdown",
   "metadata": {},
   "source": [
    "### 3. Backpropagation\n",
    "Backpropagation is a method used to calculate the error contribution of each layer after a batch of data. It is a special case of an older and more general technique called automatic differentiation. In the context of learning, backpropagation is commonly used by the gradient descent optimization algorithm to adjust the weight of layers by calculating the gradient of the loss function. This technique is also sometimes called backward propagation of errors, because the error is calculated at the output and distributed back through the network layers. The main motivation of method is simplify evaluation of gradient which is complex problem for multilayer nets.\n",
    "\n",
    "We need the following notation. Let $(y^1,\\dots,y^n) = f(x^1,\\dots,x^n)$ is some differentiable function and $\\frac{dy}{dx}$ is matrix\n",
    "$$\\frac{dy}{dx} = \\Big[ J_{ij} = \\frac{\\partial y^i}{\\partial x^j} \\Big]$$\n",
    "\n",
    "Without violating the generality, we can assume that each layer is a function $x_{i} = f(x_{i-1}, w_i)$. As last layer we add loss function, so we can assume our multi-layer net as function $Q(x_0) = Q(f_n(f_{n-1}(\\dots, w_{n-1}), w_n))$.\n",
    "\n",
    "#### Forward step\n",
    "Propagation forward through the network to generate the output values. Calculation of the loss function.\n",
    "\n",
    "#### Backward step\n",
    "Let's look at last layer. We can simply find $\\frac{dQ}{dx_n}$. Now we can evaluate \n",
    "\n",
    "$$\\frac{dQ}{dw_n} = \\frac{dQ}{dx_n}\\frac{dx_n}{dw_n} \\text{ and } \\frac{dQ}{dx_{n-1}} = \\frac{dQ}{dx_n}\\frac{dx_n}{dx_{n-1}}$$\n",
    "\n",
    "Now we need calculate $\\frac{dQ}{dw_{n-2}}$ и $\\frac{dQ}{dx_{n-2}}$. But we have the same situation. We know $\\frac{dQ}{dx_k}$, so can evaluate $\\frac{dQ}{dw_k}$ and $\\frac{dQ}{dx_{k-1}}$. Repeating this operation we find all the gradients. Now it's only remains to make a gradient step to update weights.\n",
    "\n",
    "#### Exercises\n",
    "1. Read more about [vanishing gradient](https://en.wikipedia.org/wiki/Vanishing_gradient_problem).\n",
    "2. Train 2 layer net. Use sigmoid as nonlinearity.\n",
    "3. Check accuracy on validation set.\n",
    "4. Use [ReLu](https://en.wikipedia.org/wiki/Rectifier_(neural_networks) or LeakyReLu as nonlinearity. Compare accuracy and convergence with previous model.\n",
    "5. Play with different architectures (add more layers, regularization and etc).\n",
    "6. Show your best model.\n",
    "7. How does quality change with adding layers. Prove your words, train model for 2, 3, 5, 7 and 10 layers.\n",
    "8. Using backpropagation find optimal  digit 8 for your net.*"
   ]
  },
  {
   "cell_type": "code",
   "execution_count": 11,
   "metadata": {},
   "outputs": [
    {
     "name": "stdout",
     "output_type": "stream",
     "text": [
      "step 0, training accuracy 0.08\n",
      "step 200, training accuracy 0.82\n",
      "step 400, training accuracy 0.89\n",
      "step 600, training accuracy 0.9\n",
      "step 800, training accuracy 0.92\n",
      "step 1000, training accuracy 0.91\n",
      "step 1200, training accuracy 0.93\n",
      "step 1400, training accuracy 0.93\n",
      "step 1600, training accuracy 0.95\n",
      "step 1800, training accuracy 0.97\n",
      "validation accuracy 0.9484\n",
      "test accuracy 0.9468\n"
     ]
    }
   ],
   "source": [
    "# sigmoid as nonlinearity\n",
    "\n",
    "sess = tf.InteractiveSession()\n",
    "\n",
    "x = tf.placeholder(tf.float32, [None, 784])\n",
    "y_ = tf.placeholder(tf.float32, [None, 10])\n",
    "\n",
    "W_1 = tf.Variable(tf.truncated_normal([784, 200], stddev=0.1))\n",
    "b_1 = tf.Variable(tf.constant(0.1, shape=[200]))\n",
    "layer_1 = tf.sigmoid(tf.matmul(x, W_1) + b_1)\n",
    "\n",
    "W_2 = tf.Variable(tf.truncated_normal([200, 10], stddev=0.1))\n",
    "b_2 = tf.Variable(tf.constant(0.1, shape=[10]))\n",
    "layer_2 = tf.matmul(layer_1, W_2) + b_2\n",
    "\n",
    "cross_entropy = tf.reduce_mean(\n",
    "    tf.nn.softmax_cross_entropy_with_logits(labels=y_, logits=layer_2))\n",
    "\n",
    "train_step = tf.train.GradientDescentOptimizer(0.5).minimize(cross_entropy)\n",
    "correct_prediction = tf.equal(tf.argmax(layer_2, 1), tf.argmax(y_, 1))\n",
    "accuracy = tf.reduce_mean(tf.cast(correct_prediction, tf.float32))\n",
    "\n",
    "with tf.Session() as sess:\n",
    "    sess.run(tf.global_variables_initializer())\n",
    "    for i in range(2000):\n",
    "        batch = mnist.train.next_batch(100)\n",
    "        if i % 200 == 0:\n",
    "            train_accuracy = accuracy.eval(feed_dict={\n",
    "                x: batch[0], y_: batch[1]})\n",
    "            print('step %d, training accuracy %g' % (i, train_accuracy))\n",
    "        train_step.run(feed_dict={x: batch[0], y_: batch[1]})\n",
    "\n",
    "    print('validation accuracy %g' % accuracy.eval(feed_dict={\n",
    "        x: mnist.validation.images, y_: mnist.validation.labels}))\n",
    "    print('test accuracy %g' % accuracy.eval(feed_dict={\n",
    "        x: mnist.test.images, y_: mnist.test.labels}))\n",
    "    \n",
    "sess.close()"
   ]
  },
  {
   "cell_type": "code",
   "execution_count": 13,
   "metadata": {},
   "outputs": [
    {
     "name": "stdout",
     "output_type": "stream",
     "text": [
      "step 0, training accuracy 0.1\n",
      "step 200, training accuracy 0.92\n",
      "step 400, training accuracy 0.96\n",
      "step 600, training accuracy 0.96\n",
      "step 800, training accuracy 0.96\n",
      "step 1000, training accuracy 0.97\n",
      "step 1200, training accuracy 0.98\n",
      "step 1400, training accuracy 0.96\n",
      "step 1600, training accuracy 0.98\n",
      "step 1800, training accuracy 0.99\n",
      "validation accuracy 0.9764\n",
      "test accuracy 0.9766\n"
     ]
    }
   ],
   "source": [
    "# ReLu as nonlinearity\n",
    "\n",
    "sess = tf.InteractiveSession()\n",
    "\n",
    "x = tf.placeholder(tf.float32, [None, 784])\n",
    "y_ = tf.placeholder(tf.float32, [None, 10])\n",
    "\n",
    "W_1 = tf.Variable(tf.truncated_normal([784, 200], stddev=0.1))\n",
    "b_1 = tf.Variable(tf.constant(0.1, shape=[200]))\n",
    "layer_1 = tf.nn.relu(tf.matmul(x, W_1) + b_1)\n",
    "\n",
    "W_2 = tf.Variable(tf.truncated_normal([200, 10], stddev=0.1))\n",
    "b_2 = tf.Variable(tf.constant(0.1, shape=[10]))\n",
    "layer_2 = tf.matmul(layer_1, W_2) + b_2\n",
    "\n",
    "cross_entropy = tf.reduce_mean(\n",
    "    tf.nn.softmax_cross_entropy_with_logits(labels=y_, logits=layer_2))\n",
    "\n",
    "train_step = tf.train.GradientDescentOptimizer(0.5).minimize(cross_entropy)\n",
    "correct_prediction = tf.equal(tf.argmax(layer_2, 1), tf.argmax(y_, 1))\n",
    "accuracy = tf.reduce_mean(tf.cast(correct_prediction, tf.float32))\n",
    "\n",
    "with tf.Session() as sess:\n",
    "    sess.run(tf.global_variables_initializer())\n",
    "    for i in range(2000):\n",
    "        batch = mnist.train.next_batch(100)\n",
    "        if i % 200 == 0:\n",
    "            train_accuracy = accuracy.eval(feed_dict={\n",
    "                x: batch[0], y_: batch[1]})\n",
    "            print('step %d, training accuracy %g' % (i, train_accuracy))\n",
    "        train_step.run(feed_dict={x: batch[0], y_: batch[1]})\n",
    "\n",
    "    print('validation accuracy %g' % accuracy.eval(feed_dict={\n",
    "        x: mnist.validation.images, y_: mnist.validation.labels}))\n",
    "    print('test accuracy %g' % accuracy.eval(feed_dict={\n",
    "        x: mnist.test.images, y_: mnist.test.labels}))\n",
    "    \n",
    "sess.close()"
   ]
  },
  {
   "cell_type": "code",
   "execution_count": 14,
   "metadata": {
    "scrolled": true
   },
   "outputs": [
    {
     "name": "stdout",
     "output_type": "stream",
     "text": [
      "number of layers \u001b[1m 2 \u001b[0m\n",
      "step 0, training accuracy 0.21\n",
      "step 1000, training accuracy 0.98\n",
      "validation accuracy for 2 layers 0.9754\n",
      "\u001b[1m test accuracy for 2 layers 0.9762 \u001b[0m\n",
      "number of layers \u001b[1m 3 \u001b[0m\n",
      "step 0, training accuracy 0.05\n",
      "step 1000, training accuracy 1\n",
      "validation accuracy for 3 layers 0.9788\n",
      "\u001b[1m test accuracy for 3 layers 0.9752 \u001b[0m\n",
      "number of layers \u001b[1m 5 \u001b[0m\n",
      "step 0, training accuracy 0.16\n",
      "step 1000, training accuracy 0.08\n",
      "validation accuracy for 5 layers 0.0958\n",
      "\u001b[1m test accuracy for 5 layers 0.098 \u001b[0m\n",
      "number of layers \u001b[1m 7 \u001b[0m\n",
      "step 0, training accuracy 0.14\n",
      "step 1000, training accuracy 0.16\n",
      "validation accuracy for 7 layers 0.0958\n",
      "\u001b[1m test accuracy for 7 layers 0.098 \u001b[0m\n",
      "number of layers \u001b[1m 10 \u001b[0m\n",
      "step 0, training accuracy 0.08\n",
      "step 1000, training accuracy 0.06\n",
      "validation accuracy for 10 layers 0.0958\n",
      "\u001b[1m test accuracy for 10 layers 0.098 \u001b[0m\n"
     ]
    }
   ],
   "source": [
    "# testing n-layer nets\n",
    "\n",
    "def n_layer_net(size):\n",
    "    n = size\n",
    "    sess = tf.InteractiveSession()\n",
    "\n",
    "    x = tf.placeholder(tf.float32, [None, 784])\n",
    "    y_ = tf.placeholder(tf.float32, [None, 10])\n",
    "    \n",
    "    sizes = np.array([784 - (x * 784 // n) for x in range(n + 1)])\n",
    "    sizes[-1] = 10\n",
    "    \n",
    "    prev_layer = x\n",
    "    \n",
    "    for i in range(n - 1):\n",
    "        W = tf.Variable(tf.truncated_normal([sizes[i], sizes[i + 1]], stddev=0.1))\n",
    "        b = tf.Variable(tf.constant(0.1, shape=[sizes[i + 1]]))\n",
    "        prev_layer = tf.nn.relu(tf.matmul(prev_layer, W) + b)\n",
    "\n",
    "    W_last = tf.Variable(tf.truncated_normal([sizes[-2], sizes[-1]], stddev=0.1))\n",
    "    b_last = tf.Variable(tf.constant(0.1, shape=[10]))\n",
    "    last_layer = tf.matmul(prev_layer, W_last) + b_last\n",
    "\n",
    "    cross_entropy = tf.reduce_mean(\n",
    "        tf.nn.softmax_cross_entropy_with_logits(labels=y_, logits=last_layer))\n",
    "\n",
    "    train_step = tf.train.GradientDescentOptimizer(0.5).minimize(cross_entropy)\n",
    "    correct_prediction = tf.equal(tf.argmax(last_layer, 1), tf.argmax(y_, 1))\n",
    "    accuracy = tf.reduce_mean(tf.cast(correct_prediction, tf.float32))\n",
    "\n",
    "    with tf.Session() as sess:\n",
    "        sess.run(tf.global_variables_initializer())\n",
    "        for i in range(2000):\n",
    "            batch = mnist.train.next_batch(100)\n",
    "            if i % 1000 == 0:\n",
    "                train_accuracy = accuracy.eval(feed_dict={\n",
    "                    x: batch[0], y_: batch[1]})\n",
    "                print('step %d, training accuracy %g' % (i, train_accuracy))\n",
    "            train_step.run(feed_dict={x: batch[0], y_: batch[1]})\n",
    "\n",
    "        print('validation accuracy for %d layers %g' % (n, accuracy.eval(feed_dict={\n",
    "            x: mnist.validation.images, y_: mnist.validation.labels})))\n",
    "        print('\\033[1m test accuracy for %d layers %g \\033[0m' % (n, accuracy.eval(feed_dict={\n",
    "            x: mnist.test.images, y_: mnist.test.labels})))\n",
    "\n",
    "    sess.close()\n",
    "    \n",
    "F = [2, 3, 5, 7, 10]\n",
    "for i in F:\n",
    "    print('number of layers \\033[1m %d \\033[0m' % i)\n",
    "    n_layer_net(i)"
   ]
  },
  {
   "cell_type": "code",
   "execution_count": 15,
   "metadata": {},
   "outputs": [],
   "source": [
    "# Let's play with nonlinearity function, number of batches, number of layers and regularization\n",
    "\n",
    "def net_flexible(nonlinearity, batches_step, steps, layers_num, regularization):\n",
    "    sess = tf.InteractiveSession()\n",
    "\n",
    "    x = tf.placeholder(tf.float32, [None, 784])\n",
    "    y_ = tf.placeholder(tf.float32, [None, 10])\n",
    "    \n",
    "    sizes = np.array([784 - (x * 784 // layers_num) for x in range(layers_num + 1)])\n",
    "    sizes[-1] = 10\n",
    "    \n",
    "    prev_layer = x\n",
    "    \n",
    "    for i in range(layers_num - 1):\n",
    "        W = tf.Variable(tf.truncated_normal([sizes[i], sizes[i + 1]], stddev=0.1))\n",
    "        b = tf.Variable(tf.constant(0.1, shape=[sizes[i + 1]]))\n",
    "        prev_layer = nonlinearity(tf.matmul(prev_layer, W) + b)\n",
    "\n",
    "    W_last = tf.Variable(tf.truncated_normal([sizes[-2], sizes[-1]], stddev=0.1))\n",
    "    b_last = tf.Variable(tf.constant(0.1, shape=[10]))\n",
    "    last_layer = tf.matmul(prev_layer, W_last) + b_last\n",
    "\n",
    "    lambda_1 = 0.0017\n",
    "    lambda_2 = 0.007\n",
    "    W_1 = tf.reduce_sum(tf.abs(W_last))\n",
    "    W_2 = tf.reduce_sum(tf.square(W_last))\n",
    "    \n",
    "    cross_entropy = tf.reduce_mean(\n",
    "        tf.nn.softmax_cross_entropy_with_logits(labels=y_, logits=last_layer)) +\\\n",
    "        regularization * (lambda_1 * W_1 + lambda_2 * W_2)\n",
    "\n",
    "    train_step = tf.train.GradientDescentOptimizer(0.5).minimize(cross_entropy)\n",
    "    correct_prediction = tf.equal(tf.argmax(last_layer, 1), tf.argmax(y_, 1))\n",
    "    accuracy = tf.reduce_mean(tf.cast(correct_prediction, tf.float32))\n",
    "\n",
    "    with tf.Session() as sess:\n",
    "        sess.run(tf.global_variables_initializer())\n",
    "        for i in range(steps):\n",
    "            batch = mnist.train.next_batch(batches_step)\n",
    "            if i == steps//2:\n",
    "                train_accuracy = accuracy.eval(feed_dict={\n",
    "                    x: batch[0], y_: batch[1]})\n",
    "                print('step %d, training accuracy %g' % (i, train_accuracy))\n",
    "            train_step.run(feed_dict={x: batch[0], y_: batch[1]})\n",
    "\n",
    "        print('validation accuracy %g' % accuracy.eval(feed_dict={\n",
    "            x: mnist.validation.images, y_: mnist.validation.labels}))\n",
    "        print('\\033[1m test accuracy %g \\033[0m' % accuracy.eval(feed_dict={\n",
    "            x: mnist.test.images, y_: mnist.test.labels}))\n",
    "\n",
    "    sess.close()"
   ]
  },
  {
   "cell_type": "code",
   "execution_count": 22,
   "metadata": {},
   "outputs": [
    {
     "name": "stdout",
     "output_type": "stream",
     "text": [
      "\u001b[1m Nonlinearity: ReLu, batches: 100, steps: 10000, layers: 3, regularization: false\u001b[0m\n"
     ]
    }
   ],
   "source": [
    "# we have our best accuracy when we have 3-layer-net with Relu as nonlinearity\n",
    "# training by 10000 steps without regularization (and batch_step is 100)\n",
    "# then let's train our model to find optimal digit 8 for our net\n",
    "# (checked in the end of file)\n",
    "\n",
    "print('\\033[1m Nonlinearity: ReLu, batches: 100, steps: 10000, layers: 3, regularization: false\\033[0m')\n",
    "# net_flexible(tf.nn.relu, 100, 10000, 3, 0);\n"
   ]
  },
  {
   "cell_type": "markdown",
   "metadata": {},
   "source": [
    "### 4. Autoencoders\n",
    "An autoencoder is an network used for unsupervised learning of efficient codings. The aim of an autoencoder is to learn a representation (encoding) for a set of data, typically for the purpose of dimensionality reduction. Also, this technique can be used to train deep nets.\n",
    "\n",
    "Architecturally, the simplest form of an autoencoder is a feedforward net very similar to the multilayer perceptron (MLP), but with the output layer having the same number of nodes as the input layer, and with the purpose of reconstructing its own inputs. Therefore, autoencoders are unsupervised learning models. An autoencoder always consists of two parts, the encoder and the decoder. Encoder returns latent representation of the object (compressed representation, usuallu smaller dimension), but decoder restores object from this latent representation. Autoencoders are also trained to minimise reconstruction errors (e.g. MSE).\n",
    "\n",
    "Various techniques exist to prevent autoencoders from learning the identity and to improve their ability to capture important information:\n",
    "1. Denoising autoencoder - take a partially corrupted input.\n",
    "2. Sparse autoencoder - impose sparsity on the hidden units during training (whilst having a larger number of hidden units than inputs).\n",
    "3. Variational autoencoder models inherit autoencoder architecture, but make strong assumptions concerning the distribution of latent variables.\n",
    "4. Contractive autoencoder - add an explicit regularizer in objective function that forces the model to learn a function that is robust to slight variations of input values.\n",
    "\n",
    "#### Exercises\n",
    "1. Train 2 layers autoencoder that compressed mnist images to $\\mathbb{R}^3$ space.\n",
    "2. For each digit plot several samples in 3D axis (use \"%matplotlib notebook\" mode or plotly). How do digits group?\n",
    "3. Train autoencoder with more layers. What are results?\n",
    "4. Use autoencoder to pretrain 2 layers (unsupervised) and then train the following layers with supervised method."
   ]
  },
  {
   "cell_type": "code",
   "execution_count": null,
   "metadata": {},
   "outputs": [],
   "source": [
    "# import tensorflow as tf\n",
    "# from tensorflow.examples.tutorials.mnist import input_data\n",
    "# mnist = input_data.read_data_sets(\"MNIST_data/\", one_hot=True)\n",
    "\n",
    "# x = tf.placeholder(tf.float32, [None, 784])\n",
    "# W = tf.Variable(tf.zeros([784, 10]))\n",
    "# b = tf.Variable(tf.zeros([10]))\n",
    "# y = tf.nn.softmax(tf.matmul(x, W) + b)\n",
    "\n",
    "# y_ = tf.placeholder(tf.float32, [None, 10])\n",
    "# cross_entropy = tf.reduce_mean(-tf.reduce_sum(y_ * tf.log(y), reduction_indices=[1]))\n",
    "# train_step = tf.train.GradientDescentOptimizer(0.5).minimize(cross_entropy)\n",
    "\n",
    "# sess = tf.InteractiveSession()\n",
    "# tf.global_variables_initializer().run()\n",
    "\n",
    "# for _ in range(1000):\n",
    "#     batch_xs, batch_ys = mnist.train.next_batch(100)\n",
    "#     sess.run(train_step, feed_dict={x: batch_xs, y_: batch_ys})\n",
    "    \n",
    "# correct_prediction = tf.equal(tf.argmax(y_, 1), tf.argmax(y, 1))\n",
    "# accuracy = tf.reduce_mean(tf.cast(correct_prediction, tf.float32))\n",
    "\n",
    "# print(sess.run(accuracy, feed_dict={x: mnist.test.images, y_: mnist.test.labels}))"
   ]
  },
  {
   "cell_type": "code",
   "execution_count": null,
   "metadata": {},
   "outputs": [],
   "source": [
    "# import tensorflow as tf\n",
    "# sess = tf.InteractiveSession()\n",
    "\n",
    "# from tensorflow.examples.tutorials.mnist import input_data\n",
    "# mnist = input_data.read_data_sets(\"MNIST_data/\", one_hot=True)\n",
    "\n",
    "# x = tf.placeholder(tf.float32, [None, 784])\n",
    "# y_ = tf.placeholder(tf.float32, [None, 10])\n",
    "\n",
    "# W = tf.Variable(tf.zeros([784, 10]))\n",
    "# b = tf.Variable(tf.zeros([10]))\n",
    "# y = tf.nn.softmax(tf.matmul(x, W) + b)\n",
    "\n",
    "# cross_entropy = tf.reduce_mean(\n",
    "#     tf.nn.softmax_cross_entropy_with_logits(labels=y_, logits=y))\n",
    "# train_step = tf.train.GradientDescentOptimizer(0.5).minimize(cross_entropy)\n",
    "\n",
    "# tf.global_variables_initializer().run()\n",
    "\n",
    "# for _ in range(1000):\n",
    "#     batch = mnist.train.next_batch(100)\n",
    "#     train_step.run(feed_dict={x: batch[0], y_: batch[1]})\n",
    "    \n",
    "# correct_prediction = tf.equal(tf.argmax(y_, 1), tf.argmax(y, 1))\n",
    "# accuracy = tf.reduce_mean(tf.cast(correct_prediction, tf.float32))\n",
    "\n",
    "# print(accuracy.eval(feed_dict={x: mnist.test.images, y_: mnist.test.labels}))\n",
    "\n",
    "# def deep_mnist_tutorial():\n",
    "#     def weight_variable(shape):\n",
    "#         initial = tf.truncated_normal(shape, stddev=0.1)\n",
    "#         return tf.Variable(initial)\n",
    "\n",
    "#     def bias_variable(shape):\n",
    "#         initial = tf.constant(0.1, shape=shape)\n",
    "#         return tf.Variable(initial)\n",
    "\n",
    "#     def conv2d(x, W):\n",
    "#         return tf.nn.conv2d(x, W, strides=[1, 1, 1, 1], padding='SAME')\n",
    "\n",
    "#     def max_pool_2x2(x):\n",
    "#         return tf.nn.max_pool(x, ksize=[1, 2, 2, 1],\n",
    "#                              strides=[1, 2, 2, 1], padding='SAME')\n",
    "\n",
    "#     W_conv1 = weight_variable([5, 5, 1, 32])\n",
    "#     b_conv1 = bias_variable([32])\n",
    "\n",
    "#     x_image = tf.reshape(x, [-1, 28, 28, 1])\n",
    "#     h_conv1 = tf.nn.relu(conv2d(x_image, W_conv1) + b_conv1)\n",
    "#     h_pool1 = max_pool_2x2(h_conv1)\n",
    "\n",
    "#     W_conv2 = weight_variable([5, 5, 32, 64])\n",
    "#     b_conv2 = bias_variable([64])\n",
    "\n",
    "#     h_conv2 = tf.nn.relu(conv2d(h_pool1, W_conv2) + b_conv2)\n",
    "#     h_pool2 = max_pool_2x2(h_conv2)\n",
    "\n",
    "#     W_fc1 = weight_variable([7 * 7 * 64, 1024])\n",
    "#     b_fc1 = bias_variable([1024])\n",
    "\n",
    "#     h_pool2_flat = tf.reshape(h_pool2, [-1, 7 * 7 * 64])\n",
    "#     h_fc1 = tf.nn.relu(tf.matmul(h_pool2_flat, W_fc1) + b_fc1)\n",
    "\n",
    "#     keep_prob = tf.placeholder(tf.float32)\n",
    "#     h_fc1_drop = tf.nn.dropout(h_fc1, keep_prob)\n",
    "\n",
    "#     W_fc2 = weight_variable([1024, 10])\n",
    "#     b_fc2 = bias_variable([10])\n",
    "\n",
    "#     y_conv = tf.matmul(h_fc1_drop, W_fc2) + b_fc2\n",
    "\n",
    "#     cross_entropy = tf.reduce_mean(\n",
    "#         tf.nn.softmax_cross_entropy_with_logits(labels=y_, logits=y_conv))\n",
    "#     train_step = tf.train.AdamOptimizer(1e-4).minimize(cross_entropy)\n",
    "#     correct_prediction = tf.equal(tf.argmax(y_conv, 1), tf.argmax(y_, 1))\n",
    "#     accuracy = tf.reduce_mean(tf.cast(correct_prediction, tf.float32))\n",
    "\n",
    "#     with tf.Session() as sess:\n",
    "#         sess.run(tf.global_variables_initializer())\n",
    "#         for i in range(20000):\n",
    "#             batch = mnist.train.next_batch(50)\n",
    "#             if i % 100 == 0:\n",
    "#                 train_accuracy = accuracy.eval(feed_dict={\n",
    "#                     x: batch[0], y_: batch[1], keep_prob: 1.0})\n",
    "#                 print('step %d, training accuracy %g' % (i, train_accuracy))\n",
    "#             train_step.run(feed_dict={x: batch[0], y_: batch[1], keep_prob: 0.5})\n",
    "\n",
    "#         print('test accuracy %g' % accuracy.eval(feed_dict={\n",
    "#             x: mnist.test.images, y_: mnist.test.labels, keep_prob: 0.5}))"
   ]
  },
  {
   "cell_type": "code",
   "execution_count": 16,
   "metadata": {},
   "outputs": [
    {
     "name": "stdout",
     "output_type": "stream",
     "text": [
      "\u001b[1m Nonlinearity: ReLu, batches: 50, steps: 2000, layers: 2, regularization: false\u001b[0m\n",
      "step 1000, training accuracy 0.94\n",
      "validation accuracy 0.9754\n",
      "\u001b[1m test accuracy 0.9719 \u001b[0m\n",
      "\u001b[1m Nonlinearity: sigmoid, batches: 50, steps: 2000, layers: 2, regularization: false\u001b[0m\n",
      "step 1000, training accuracy 0.84\n",
      "validation accuracy 0.9484\n",
      "\u001b[1m test accuracy 0.9425 \u001b[0m\n",
      "\u001b[1m Nonlinearity: ReLu, batches: 50, steps: 2000, layers: 2, regularization: true\u001b[0m\n",
      "step 1000, training accuracy 0.98\n",
      "validation accuracy 0.929\n",
      "\u001b[1m test accuracy 0.9261 \u001b[0m\n",
      "\u001b[1m Nonlinearity: sigmoid, batches: 50, steps: 2000, layers: 2, regularization: true\u001b[0m\n",
      "step 1000, training accuracy 0.76\n",
      "validation accuracy 0.9028\n",
      "\u001b[1m test accuracy 0.9038 \u001b[0m\n",
      "\u001b[1m Nonlinearity: ReLu, batches: 50, steps: 2000, layers: 3, regularization: false\u001b[0m\n",
      "step 1000, training accuracy 0.9\n",
      "validation accuracy 0.9744\n",
      "\u001b[1m test accuracy 0.9696 \u001b[0m\n",
      "\u001b[1m Nonlinearity: sigmoid, batches: 50, steps: 2000, layers: 3, regularization: false\u001b[0m\n",
      "step 1000, training accuracy 0.88\n",
      "validation accuracy 0.944\n",
      "\u001b[1m test accuracy 0.9362 \u001b[0m\n",
      "\u001b[1m Nonlinearity: ReLu, batches: 50, steps: 2000, layers: 3, regularization: true\u001b[0m\n",
      "step 1000, training accuracy 0.98\n",
      "validation accuracy 0.963\n",
      "\u001b[1m test accuracy 0.9604 \u001b[0m\n",
      "\u001b[1m Nonlinearity: sigmoid, batches: 50, steps: 2000, layers: 3, regularization: true\u001b[0m\n",
      "step 1000, training accuracy 0.94\n",
      "validation accuracy 0.9172\n",
      "\u001b[1m test accuracy 0.9139 \u001b[0m\n"
     ]
    }
   ],
   "source": [
    "print('\\033[1m Nonlinearity: ReLu, batches: 50, steps: 2000, layers: 2, regularization: false\\033[0m')\n",
    "net_flexible(tf.nn.relu, 50, 2000, 2, 0);\n",
    "print('\\033[1m Nonlinearity: sigmoid, batches: 50, steps: 2000, layers: 2, regularization: false\\033[0m')\n",
    "net_flexible(tf.sigmoid, 50, 2000, 2, 0);\n",
    "print('\\033[1m Nonlinearity: ReLu, batches: 50, steps: 2000, layers: 2, regularization: true\\033[0m')\n",
    "net_flexible(tf.nn.relu, 50, 2000, 2, 1);\n",
    "print('\\033[1m Nonlinearity: sigmoid, batches: 50, steps: 2000, layers: 2, regularization: true\\033[0m')\n",
    "net_flexible(tf.sigmoid, 50, 2000, 2, 1);\n",
    "print('\\033[1m Nonlinearity: ReLu, batches: 50, steps: 2000, layers: 3, regularization: false\\033[0m')\n",
    "net_flexible(tf.nn.relu, 50, 2000, 3, 0);\n",
    "print('\\033[1m Nonlinearity: sigmoid, batches: 50, steps: 2000, layers: 3, regularization: false\\033[0m')\n",
    "net_flexible(tf.sigmoid, 50, 2000, 3, 0);\n",
    "print('\\033[1m Nonlinearity: ReLu, batches: 50, steps: 2000, layers: 3, regularization: true\\033[0m')\n",
    "net_flexible(tf.nn.relu, 50, 2000, 3, 1);\n",
    "print('\\033[1m Nonlinearity: sigmoid, batches: 50, steps: 2000, layers: 3, regularization: true\\033[0m')\n",
    "net_flexible(tf.sigmoid, 50, 2000, 3, 1);"
   ]
  },
  {
   "cell_type": "code",
   "execution_count": 17,
   "metadata": {},
   "outputs": [
    {
     "name": "stdout",
     "output_type": "stream",
     "text": [
      "\u001b[1m Nonlinearity: ReLu, batches: 100, steps: 2000, layers: 2, regularization: false\u001b[0m\n",
      "step 1000, training accuracy 0.98\n",
      "validation accuracy 0.976\n",
      "\u001b[1m test accuracy 0.9737 \u001b[0m\n",
      "\u001b[1m Nonlinearity: sigmoid, batches: 100, steps: 2000, layers: 2, regularization: false\u001b[0m\n",
      "step 1000, training accuracy 0.94\n",
      "validation accuracy 0.9496\n",
      "\u001b[1m test accuracy 0.9477 \u001b[0m\n",
      "\u001b[1m Nonlinearity: ReLu, batches: 100, steps: 2000, layers: 2, regularization: true\u001b[0m\n",
      "step 1000, training accuracy 0.97\n",
      "validation accuracy 0.9492\n",
      "\u001b[1m test accuracy 0.9471 \u001b[0m\n",
      "\u001b[1m Nonlinearity: sigmoid, batches: 100, steps: 2000, layers: 2, regularization: true\u001b[0m\n",
      "step 1000, training accuracy 0.81\n",
      "validation accuracy 0.9122\n",
      "\u001b[1m test accuracy 0.9109 \u001b[0m\n",
      "\u001b[1m Nonlinearity: ReLu, batches: 100, steps: 2000, layers: 3, regularization: false\u001b[0m\n",
      "step 1000, training accuracy 0.95\n",
      "validation accuracy 0.978\n",
      "\u001b[1m test accuracy 0.9738 \u001b[0m\n",
      "\u001b[1m Nonlinearity: sigmoid, batches: 100, steps: 2000, layers: 3, regularization: false\u001b[0m\n",
      "step 1000, training accuracy 0.96\n",
      "validation accuracy 0.9458\n",
      "\u001b[1m test accuracy 0.9421 \u001b[0m\n",
      "\u001b[1m Nonlinearity: ReLu, batches: 100, steps: 2000, layers: 3, regularization: true\u001b[0m\n",
      "step 1000, training accuracy 0.97\n",
      "validation accuracy 0.974\n",
      "\u001b[1m test accuracy 0.9711 \u001b[0m\n",
      "\u001b[1m Nonlinearity: sigmoid, batches: 100, steps: 2000, layers: 3, regularization: true\u001b[0m\n",
      "step 1000, training accuracy 0.88\n",
      "validation accuracy 0.921\n",
      "\u001b[1m test accuracy 0.92 \u001b[0m\n"
     ]
    }
   ],
   "source": [
    "print('\\033[1m Nonlinearity: ReLu, batches: 100, steps: 2000, layers: 2, regularization: false\\033[0m')\n",
    "net_flexible(tf.nn.relu, 100, 2000, 2, 0);\n",
    "print('\\033[1m Nonlinearity: sigmoid, batches: 100, steps: 2000, layers: 2, regularization: false\\033[0m')\n",
    "net_flexible(tf.sigmoid, 100, 2000, 2, 0);\n",
    "print('\\033[1m Nonlinearity: ReLu, batches: 100, steps: 2000, layers: 2, regularization: true\\033[0m')\n",
    "net_flexible(tf.nn.relu, 100, 2000, 2, 1);\n",
    "print('\\033[1m Nonlinearity: sigmoid, batches: 100, steps: 2000, layers: 2, regularization: true\\033[0m')\n",
    "net_flexible(tf.sigmoid, 100, 2000, 2, 1);\n",
    "print('\\033[1m Nonlinearity: ReLu, batches: 100, steps: 2000, layers: 3, regularization: false\\033[0m')\n",
    "net_flexible(tf.nn.relu, 100, 2000, 3, 0);\n",
    "print('\\033[1m Nonlinearity: sigmoid, batches: 100, steps: 2000, layers: 3, regularization: false\\033[0m')\n",
    "net_flexible(tf.sigmoid, 100, 2000, 3, 0);\n",
    "print('\\033[1m Nonlinearity: ReLu, batches: 100, steps: 2000, layers: 3, regularization: true\\033[0m')\n",
    "net_flexible(tf.nn.relu, 100, 2000, 3, 1);\n",
    "print('\\033[1m Nonlinearity: sigmoid, batches: 100, steps: 2000, layers: 3, regularization: true\\033[0m')\n",
    "net_flexible(tf.sigmoid, 100, 2000, 3, 1);"
   ]
  },
  {
   "cell_type": "code",
   "execution_count": 18,
   "metadata": {},
   "outputs": [
    {
     "name": "stdout",
     "output_type": "stream",
     "text": [
      "\u001b[1m Nonlinearity: ReLu, batches: 200, steps: 2000, layers: 2, regularization: false\u001b[0m\n",
      "step 1000, training accuracy 0.98\n",
      "validation accuracy 0.9792\n",
      "\u001b[1m test accuracy 0.976 \u001b[0m\n",
      "\u001b[1m Nonlinearity: sigmoid, batches: 200, steps: 2000, layers: 2, regularization: false\u001b[0m\n",
      "step 1000, training accuracy 0.95\n",
      "validation accuracy 0.9496\n",
      "\u001b[1m test accuracy 0.9467 \u001b[0m\n",
      "\u001b[1m Nonlinearity: ReLu, batches: 200, steps: 2000, layers: 2, regularization: true\u001b[0m\n",
      "step 1000, training accuracy 0.955\n",
      "validation accuracy 0.956\n",
      "\u001b[1m test accuracy 0.9501 \u001b[0m\n",
      "\u001b[1m Nonlinearity: sigmoid, batches: 200, steps: 2000, layers: 2, regularization: true\u001b[0m\n",
      "step 1000, training accuracy 0.875\n",
      "validation accuracy 0.9136\n",
      "\u001b[1m test accuracy 0.9111 \u001b[0m\n",
      "\u001b[1m Nonlinearity: ReLu, batches: 200, steps: 2000, layers: 3, regularization: false\u001b[0m\n",
      "step 1000, training accuracy 1\n",
      "validation accuracy 0.9782\n",
      "\u001b[1m test accuracy 0.9785 \u001b[0m\n",
      "\u001b[1m Nonlinearity: sigmoid, batches: 200, steps: 2000, layers: 3, regularization: false\u001b[0m\n",
      "step 1000, training accuracy 0.895\n",
      "validation accuracy 0.95\n",
      "\u001b[1m test accuracy 0.9463 \u001b[0m\n",
      "\u001b[1m Nonlinearity: ReLu, batches: 200, steps: 2000, layers: 3, regularization: true\u001b[0m\n",
      "step 1000, training accuracy 0.97\n",
      "validation accuracy 0.9692\n",
      "\u001b[1m test accuracy 0.9658 \u001b[0m\n",
      "\u001b[1m Nonlinearity: sigmoid, batches: 200, steps: 2000, layers: 3, regularization: true\u001b[0m\n",
      "step 1000, training accuracy 0.88\n",
      "validation accuracy 0.9222\n",
      "\u001b[1m test accuracy 0.9193 \u001b[0m\n"
     ]
    }
   ],
   "source": [
    "print('\\033[1m Nonlinearity: ReLu, batches: 200, steps: 2000, layers: 2, regularization: false\\033[0m')\n",
    "net_flexible(tf.nn.relu, 200, 2000, 2, 0);\n",
    "print('\\033[1m Nonlinearity: sigmoid, batches: 200, steps: 2000, layers: 2, regularization: false\\033[0m')\n",
    "net_flexible(tf.sigmoid, 200, 2000, 2, 0);\n",
    "print('\\033[1m Nonlinearity: ReLu, batches: 200, steps: 2000, layers: 2, regularization: true\\033[0m')\n",
    "net_flexible(tf.nn.relu, 200, 2000, 2, 1);\n",
    "print('\\033[1m Nonlinearity: sigmoid, batches: 200, steps: 2000, layers: 2, regularization: true\\033[0m')\n",
    "net_flexible(tf.sigmoid, 200, 2000, 2, 1);\n",
    "print('\\033[1m Nonlinearity: ReLu, batches: 200, steps: 2000, layers: 3, regularization: false\\033[0m')\n",
    "net_flexible(tf.nn.relu, 200, 2000, 3, 0);\n",
    "print('\\033[1m Nonlinearity: sigmoid, batches: 200, steps: 2000, layers: 3, regularization: false\\033[0m')\n",
    "net_flexible(tf.sigmoid, 200, 2000, 3, 0);\n",
    "print('\\033[1m Nonlinearity: ReLu, batches: 200, steps: 2000, layers: 3, regularization: true\\033[0m')\n",
    "net_flexible(tf.nn.relu, 200, 2000, 3, 1);\n",
    "print('\\033[1m Nonlinearity: sigmoid, batches: 200, steps: 2000, layers: 3, regularization: true\\033[0m')\n",
    "net_flexible(tf.sigmoid, 200, 2000, 3, 1);"
   ]
  },
  {
   "cell_type": "code",
   "execution_count": 19,
   "metadata": {},
   "outputs": [
    {
     "name": "stdout",
     "output_type": "stream",
     "text": [
      "\u001b[1m Nonlinearity: ReLu, batches: 50, steps: 10000, layers: 2, regularization: false\u001b[0m\n",
      "step 5000, training accuracy 1\n",
      "validation accuracy 0.9844\n",
      "\u001b[1m test accuracy 0.9829 \u001b[0m\n",
      "\u001b[1m Nonlinearity: sigmoid, batches: 50, steps: 10000, layers: 2, regularization: false\u001b[0m\n",
      "step 5000, training accuracy 1\n",
      "validation accuracy 0.9792\n",
      "\u001b[1m test accuracy 0.9765 \u001b[0m\n",
      "\u001b[1m Nonlinearity: ReLu, batches: 50, steps: 10000, layers: 2, regularization: true\u001b[0m\n",
      "step 5000, training accuracy 0.92\n",
      "validation accuracy 0.9526\n",
      "\u001b[1m test accuracy 0.9517 \u001b[0m\n",
      "\u001b[1m Nonlinearity: sigmoid, batches: 50, steps: 10000, layers: 2, regularization: true\u001b[0m\n",
      "step 5000, training accuracy 0.9\n",
      "validation accuracy 0.9238\n",
      "\u001b[1m test accuracy 0.9235 \u001b[0m\n",
      "\u001b[1m Nonlinearity: ReLu, batches: 50, steps: 10000, layers: 3, regularization: false\u001b[0m\n",
      "step 5000, training accuracy 0.98\n",
      "validation accuracy 0.9806\n",
      "\u001b[1m test accuracy 0.9785 \u001b[0m\n",
      "\u001b[1m Nonlinearity: sigmoid, batches: 50, steps: 10000, layers: 3, regularization: false\u001b[0m\n",
      "step 5000, training accuracy 0.92\n",
      "validation accuracy 0.9764\n",
      "\u001b[1m test accuracy 0.9709 \u001b[0m\n",
      "\u001b[1m Nonlinearity: ReLu, batches: 50, steps: 10000, layers: 3, regularization: true\u001b[0m\n",
      "step 5000, training accuracy 1\n",
      "validation accuracy 0.9786\n",
      "\u001b[1m test accuracy 0.9786 \u001b[0m\n",
      "\u001b[1m Nonlinearity: sigmoid, batches: 50, steps: 10000, layers: 3, regularization: true\u001b[0m\n",
      "step 5000, training accuracy 0.86\n",
      "validation accuracy 0.9522\n",
      "\u001b[1m test accuracy 0.9467 \u001b[0m\n"
     ]
    }
   ],
   "source": [
    "print('\\033[1m Nonlinearity: ReLu, batches: 50, steps: 10000, layers: 2, regularization: false\\033[0m')\n",
    "net_flexible(tf.nn.relu, 50, 10000, 2, 0);\n",
    "print('\\033[1m Nonlinearity: sigmoid, batches: 50, steps: 10000, layers: 2, regularization: false\\033[0m')\n",
    "net_flexible(tf.sigmoid, 50, 10000, 2, 0);\n",
    "print('\\033[1m Nonlinearity: ReLu, batches: 50, steps: 10000, layers: 2, regularization: true\\033[0m')\n",
    "net_flexible(tf.nn.relu, 50, 10000, 2, 1);\n",
    "print('\\033[1m Nonlinearity: sigmoid, batches: 50, steps: 10000, layers: 2, regularization: true\\033[0m')\n",
    "net_flexible(tf.sigmoid, 50, 10000, 2, 1);\n",
    "print('\\033[1m Nonlinearity: ReLu, batches: 50, steps: 10000, layers: 3, regularization: false\\033[0m')\n",
    "net_flexible(tf.nn.relu, 50, 10000, 3, 0);\n",
    "print('\\033[1m Nonlinearity: sigmoid, batches: 50, steps: 10000, layers: 3, regularization: false\\033[0m')\n",
    "net_flexible(tf.sigmoid, 50, 10000, 3, 0);\n",
    "print('\\033[1m Nonlinearity: ReLu, batches: 50, steps: 10000, layers: 3, regularization: true\\033[0m')\n",
    "net_flexible(tf.nn.relu, 50, 10000, 3, 1);\n",
    "print('\\033[1m Nonlinearity: sigmoid, batches: 50, steps: 10000, layers: 3, regularization: true\\033[0m')\n",
    "net_flexible(tf.sigmoid, 50, 10000, 3, 1);"
   ]
  },
  {
   "cell_type": "code",
   "execution_count": 20,
   "metadata": {},
   "outputs": [
    {
     "name": "stdout",
     "output_type": "stream",
     "text": [
      "\u001b[1m Nonlinearity: ReLu, batches: 100, steps: 10000, layers: 2, regularization: false\u001b[0m\n",
      "step 5000, training accuracy 1\n",
      "validation accuracy 0.9828\n",
      "\u001b[1m test accuracy 0.9825 \u001b[0m\n",
      "\u001b[1m Nonlinearity: sigmoid, batches: 100, steps: 10000, layers: 2, regularization: false\u001b[0m\n",
      "step 5000, training accuracy 0.93\n",
      "validation accuracy 0.9768\n",
      "\u001b[1m test accuracy 0.9772 \u001b[0m\n",
      "\u001b[1m Nonlinearity: ReLu, batches: 100, steps: 10000, layers: 2, regularization: true\u001b[0m\n",
      "step 5000, training accuracy 0.93\n",
      "validation accuracy 0.961\n",
      "\u001b[1m test accuracy 0.96 \u001b[0m\n",
      "\u001b[1m Nonlinearity: sigmoid, batches: 100, steps: 10000, layers: 2, regularization: true\u001b[0m\n",
      "step 5000, training accuracy 0.91\n",
      "validation accuracy 0.927\n",
      "\u001b[1m test accuracy 0.9278 \u001b[0m\n",
      "\u001b[1m Nonlinearity: ReLu, batches: 100, steps: 10000, layers: 3, regularization: false\u001b[0m\n",
      "step 5000, training accuracy 1\n",
      "validation accuracy 0.9848\n",
      "\u001b[1m test accuracy 0.9826 \u001b[0m\n",
      "\u001b[1m Nonlinearity: sigmoid, batches: 100, steps: 10000, layers: 3, regularization: false\u001b[0m\n",
      "step 5000, training accuracy 0.97\n",
      "validation accuracy 0.9776\n",
      "\u001b[1m test accuracy 0.9733 \u001b[0m\n",
      "\u001b[1m Nonlinearity: ReLu, batches: 100, steps: 10000, layers: 3, regularization: true\u001b[0m\n",
      "step 5000, training accuracy 0.98\n",
      "validation accuracy 0.9826\n",
      "\u001b[1m test accuracy 0.9798 \u001b[0m\n",
      "\u001b[1m Nonlinearity: sigmoid, batches: 100, steps: 10000, layers: 3, regularization: true\u001b[0m\n",
      "step 5000, training accuracy 0.93\n",
      "validation accuracy 0.9522\n",
      "\u001b[1m test accuracy 0.9475 \u001b[0m\n"
     ]
    }
   ],
   "source": [
    "print('\\033[1m Nonlinearity: ReLu, batches: 100, steps: 10000, layers: 2, regularization: false\\033[0m')\n",
    "net_flexible(tf.nn.relu, 100, 10000, 2, 0);\n",
    "print('\\033[1m Nonlinearity: sigmoid, batches: 100, steps: 10000, layers: 2, regularization: false\\033[0m')\n",
    "net_flexible(tf.sigmoid, 100, 10000, 2, 0);\n",
    "print('\\033[1m Nonlinearity: ReLu, batches: 100, steps: 10000, layers: 2, regularization: true\\033[0m')\n",
    "net_flexible(tf.nn.relu, 100, 10000, 2, 1);\n",
    "print('\\033[1m Nonlinearity: sigmoid, batches: 100, steps: 10000, layers: 2, regularization: true\\033[0m')\n",
    "net_flexible(tf.sigmoid, 100, 10000, 2, 1);\n",
    "# best 0.9826\n",
    "print('\\033[1m Nonlinearity: ReLu, batches: 100, steps: 10000, layers: 3, regularization: false\\033[0m')\n",
    "net_flexible(tf.nn.relu, 100, 10000, 3, 0);\n",
    "print('\\033[1m Nonlinearity: sigmoid, batches: 100, steps: 10000, layers: 3, regularization: false\\033[0m')\n",
    "net_flexible(tf.sigmoid, 100, 10000, 3, 0);\n",
    "print('\\033[1m Nonlinearity: ReLu, batches: 100, steps: 10000, layers: 3, regularization: true\\033[0m')\n",
    "net_flexible(tf.nn.relu, 100, 10000, 3, 1);\n",
    "print('\\033[1m Nonlinearity: sigmoid, batches: 100, steps: 10000, layers: 3, regularization: true\\033[0m')\n",
    "net_flexible(tf.sigmoid, 100, 10000, 3, 1);"
   ]
  },
  {
   "cell_type": "code",
   "execution_count": 21,
   "metadata": {
    "scrolled": true
   },
   "outputs": [
    {
     "name": "stdout",
     "output_type": "stream",
     "text": [
      "\u001b[1m Nonlinearity: ReLu, batches: 200, steps: 10000, layers: 2, regularization: false\u001b[0m\n",
      "step 5000, training accuracy 1\n",
      "validation accuracy 0.9816\n",
      "\u001b[1m test accuracy 0.982 \u001b[0m\n",
      "\u001b[1m Nonlinearity: sigmoid, batches: 200, steps: 10000, layers: 2, regularization: false\u001b[0m\n",
      "step 5000, training accuracy 0.985\n",
      "validation accuracy 0.9758\n",
      "\u001b[1m test accuracy 0.9775 \u001b[0m\n",
      "\u001b[1m Nonlinearity: ReLu, batches: 200, steps: 10000, layers: 2, regularization: true\u001b[0m\n",
      "step 5000, training accuracy 0.955\n",
      "validation accuracy 0.959\n",
      "\u001b[1m test accuracy 0.9553 \u001b[0m\n",
      "\u001b[1m Nonlinearity: sigmoid, batches: 200, steps: 10000, layers: 2, regularization: true\u001b[0m\n",
      "step 5000, training accuracy 0.93\n",
      "validation accuracy 0.9256\n",
      "\u001b[1m test accuracy 0.9274 \u001b[0m\n",
      "\u001b[1m Nonlinearity: ReLu, batches: 200, steps: 10000, layers: 3, regularization: false\u001b[0m\n",
      "step 5000, training accuracy 1\n",
      "validation accuracy 0.9828\n",
      "\u001b[1m test accuracy 0.9824 \u001b[0m\n",
      "\u001b[1m Nonlinearity: sigmoid, batches: 200, steps: 10000, layers: 3, regularization: false\u001b[0m\n",
      "step 5000, training accuracy 0.955\n",
      "validation accuracy 0.98\n",
      "\u001b[1m test accuracy 0.976 \u001b[0m\n",
      "\u001b[1m Nonlinearity: ReLu, batches: 200, steps: 10000, layers: 3, regularization: true\u001b[0m\n",
      "step 5000, training accuracy 1\n",
      "validation accuracy 0.982\n",
      "\u001b[1m test accuracy 0.9801 \u001b[0m\n",
      "\u001b[1m Nonlinearity: sigmoid, batches: 200, steps: 10000, layers: 3, regularization: true\u001b[0m\n",
      "step 5000, training accuracy 0.93\n",
      "validation accuracy 0.9508\n",
      "\u001b[1m test accuracy 0.9462 \u001b[0m\n"
     ]
    }
   ],
   "source": [
    "print('\\033[1m Nonlinearity: ReLu, batches: 200, steps: 10000, layers: 2, regularization: false\\033[0m')\n",
    "net_flexible(tf.nn.relu, 200, 10000, 2, 0);\n",
    "print('\\033[1m Nonlinearity: sigmoid, batches: 200, steps: 10000, layers: 2, regularization: false\\033[0m')\n",
    "net_flexible(tf.sigmoid, 200, 10000, 2, 0);\n",
    "print('\\033[1m Nonlinearity: ReLu, batches: 200, steps: 10000, layers: 2, regularization: true\\033[0m')\n",
    "net_flexible(tf.nn.relu, 200, 10000, 2, 1);\n",
    "print('\\033[1m Nonlinearity: sigmoid, batches: 200, steps: 10000, layers: 2, regularization: true\\033[0m')\n",
    "net_flexible(tf.sigmoid, 200, 10000, 2, 1);\n",
    "print('\\033[1m Nonlinearity: ReLu, batches: 200, steps: 10000, layers: 3, regularization: false\\033[0m')\n",
    "net_flexible(tf.nn.relu, 200, 10000, 3, 0);\n",
    "print('\\033[1m Nonlinearity: sigmoid, batches: 200, steps: 10000, layers: 3, regularization: false\\033[0m')\n",
    "net_flexible(tf.sigmoid, 200, 10000, 3, 0);\n",
    "print('\\033[1m Nonlinearity: ReLu, batches: 200, steps: 10000, layers: 3, regularization: true\\033[0m')\n",
    "net_flexible(tf.nn.relu, 200, 10000, 3, 1);\n",
    "print('\\033[1m Nonlinearity: sigmoid, batches: 200, steps: 10000, layers: 3, regularization: true\\033[0m')\n",
    "net_flexible(tf.sigmoid, 200, 10000, 3, 1);"
   ]
  }
 ],
 "metadata": {
  "kernelspec": {
   "display_name": "Python 3",
   "language": "python",
   "name": "python3"
  },
  "language_info": {
   "codemirror_mode": {
    "name": "ipython",
    "version": 3
   },
   "file_extension": ".py",
   "mimetype": "text/x-python",
   "name": "python",
   "nbconvert_exporter": "python",
   "pygments_lexer": "ipython3",
   "version": "3.6.3"
  }
 },
 "nbformat": 4,
 "nbformat_minor": 1
}
